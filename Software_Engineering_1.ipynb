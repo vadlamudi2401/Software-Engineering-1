{
  "nbformat": 4,
  "nbformat_minor": 0,
  "metadata": {
    "colab": {
      "provenance": [],
      "authorship_tag": "ABX9TyPo/zAbfx3Tyrl9tG9qhOYu",
      "include_colab_link": true
    },
    "kernelspec": {
      "name": "python3",
      "display_name": "Python 3"
    },
    "language_info": {
      "name": "python"
    }
  },
  "cells": [
    {
      "cell_type": "markdown",
      "metadata": {
        "id": "view-in-github",
        "colab_type": "text"
      },
      "source": [
        "<a href=\"https://colab.research.google.com/github/vadlamudi2401/Software-Engineering-1/blob/main/Software_Engineering_1.ipynb\" target=\"_parent\"><img src=\"https://colab.research.google.com/assets/colab-badge.svg\" alt=\"Open In Colab\"/></a>"
      ]
    },
    {
      "cell_type": "code",
      "source": [
        "def solve_quadratic(a, b, c):\n",
        "    discriminant = b ** 2 - 4 * a * c\n",
        "    if discriminant < 0:\n",
        "        print(\"No real roots.\")\n",
        "    else:\n",
        "        root1 = (-b + discriminant**0.5) / (2 * a)\n",
        "        root2 = (-b - discriminant**0.5) / (2 * a)\n",
        "        print(f\"Roots: {root1}, {root2}\")\n",
        "\n",
        "if __name__ == \"__main__\":\n",
        "    # Example coefficients for ax^2 + bx + c = 0\n",
        "    a = 1\n",
        "    b = -3\n",
        "    c = 2\n",
        "    solve_quadratic(a, b, c)"
      ],
      "metadata": {
        "colab": {
          "base_uri": "https://localhost:8080/"
        },
        "id": "31vN2N3a1Gp9",
        "outputId": "8d22f3e9-f074-4529-c1c4-db8c036b7c10"
      },
      "execution_count": 1,
      "outputs": [
        {
          "output_type": "stream",
          "name": "stdout",
          "text": [
            "Roots: 2.0, 1.0\n"
          ]
        }
      ]
    },
    {
      "cell_type": "code",
      "source": [
        "def solve_quadratic(a, b, c):\n",
        "    discriminant = b ** 2 - 4 * a * c\n",
        "    if discriminant < 0:\n",
        "        print(\"No real roots.\")\n",
        "    else:\n",
        "        root1 = (-b + discriminant**0.5) / (2 * a)\n",
        "        root2 = (-b - discriminant**0.5) / (2 * a)\n",
        "        print(f\"Roots: {root1}, {root2}\")\n",
        "\n",
        "if __name__ == \"__main__\":\n",
        "    a = float(input(\"Enter a: \"))\n",
        "    b = float(input(\"Enter b: \"))\n",
        "    c = float(input(\"Enter c: \"))\n",
        "    solve_quadratic(a, b, c)"
      ],
      "metadata": {
        "colab": {
          "base_uri": "https://localhost:8080/"
        },
        "id": "KLlFeb0G1Srd",
        "outputId": "8a76467d-3552-4a2c-d950-2bf5815989e5"
      },
      "execution_count": 6,
      "outputs": [
        {
          "output_type": "stream",
          "name": "stdout",
          "text": [
            "Enter a: 1\n",
            "Enter b: 5\n",
            "Enter c: 6\n",
            "Roots: -2.0, -3.0\n"
          ]
        }
      ]
    },
    {
      "cell_type": "code",
      "source": [
        "def solve_quadratic(a, b, c):\n",
        "    discriminant = b ** 2 - 4 * a * c\n",
        "    if discriminant < 0:\n",
        "        print(\"No real roots.\")\n",
        "    else:\n",
        "        root1 = (-b + discriminant**0.5) / (2 * a)\n",
        "        root2 = (-b - discriminant**0.5) / (2 * a)\n",
        "        print(f\"Roots: {root1}, {root2}\")\n",
        "\n",
        "if __name__ == \"__main__\":\n",
        "    # Create input.txt with example values\n",
        "    with open(\"input.txt\", \"w\") as f:\n",
        "        f.write(\"1 5 6\\n\") # Example values for a, b, c\n",
        "\n",
        "    with open(\"input.txt\") as f:\n",
        "        line = f.readline()\n",
        "        a, b, c = map(float, line.strip().split())\n",
        "        solve_quadratic(a, b, c)"
      ],
      "metadata": {
        "colab": {
          "base_uri": "https://localhost:8080/"
        },
        "id": "jOkI-_Iw1X9z",
        "outputId": "41726a30-e204-44c0-c0c0-b1219c1ec95e"
      },
      "execution_count": 4,
      "outputs": [
        {
          "output_type": "stream",
          "name": "stdout",
          "text": [
            "Roots: -2.0, -3.0\n"
          ]
        }
      ]
    },
    {
      "cell_type": "code",
      "source": [
        "def solve_quadratic(a, b, c):\n",
        "    discriminant = b ** 2 - 4 * a * c\n",
        "    if discriminant < 0:\n",
        "        print(\"No real roots.\")\n",
        "    else:\n",
        "        root1 = (-b + discriminant**0.5) / (2 * a)\n",
        "        root2 = (-b - discriminant**0.5) / (2 * a)\n",
        "        print(f\"Roots: {root1}, {root2}\")\n",
        "\n",
        "if __name__ == \"__main__\":\n",
        "    with open(\"input.txt\") as f:\n",
        "        for line in f:\n",
        "            if line.strip():\n",
        "                a, b, c = map(float, line.strip().split())\n",
        "                print(f\"For a={a}, b={b}, c={c}: \", end=\"\")\n",
        "                solve_quadratic(a, b, c)"
      ],
      "metadata": {
        "colab": {
          "base_uri": "https://localhost:8080/"
        },
        "id": "zE4fc9u01kDb",
        "outputId": "e5f51515-c3a3-4f8a-c1fd-475ca8751cda"
      },
      "execution_count": 5,
      "outputs": [
        {
          "output_type": "stream",
          "name": "stdout",
          "text": [
            "For a=1.0, b=5.0, c=6.0: Roots: -2.0, -3.0\n"
          ]
        }
      ]
    }
  ]
}