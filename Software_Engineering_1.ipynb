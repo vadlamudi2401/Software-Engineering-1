{
  "nbformat": 4,
  "nbformat_minor": 0,
  "metadata": {
    "colab": {
      "provenance": [],
      "authorship_tag": "ABX9TyNH184eBT416f0KxtsGdzgK",
      "include_colab_link": true
    },
    "kernelspec": {
      "name": "python3",
      "display_name": "Python 3"
    },
    "language_info": {
      "name": "python"
    }
  },
  "cells": [
    {
      "cell_type": "markdown",
      "metadata": {
        "id": "view-in-github",
        "colab_type": "text"
      },
      "source": [
        "<a href=\"https://colab.research.google.com/github/vadlamudi2401/Software-Engineering-1/blob/main/Software_Engineering_1.ipynb\" target=\"_parent\"><img src=\"https://colab.research.google.com/assets/colab-badge.svg\" alt=\"Open In Colab\"/></a>"
      ]
    },
    {
      "cell_type": "code",
      "source": [
        "def Temperature_modeling(a, b, c, time):\n",
        "    temp = a * time ** 2 + b * time + c\n",
        "    return temp\n",
        "\n",
        "# Version 1: Hardcoding the variables\n",
        "a = 1\n",
        "b = 2\n",
        "c = 3\n",
        "time = 4\n",
        "temp = Temperature_modeling(a, b, c, time)\n",
        "print(f\"the Temperature at time {time} is {temp}\")"
      ],
      "metadata": {
        "colab": {
          "base_uri": "https://localhost:8080/"
        },
        "id": "C5mZItCJHoOP",
        "outputId": "8461af64-c3ae-40a3-be3d-3b47f4e0b7ed"
      },
      "execution_count": 7,
      "outputs": [
        {
          "output_type": "stream",
          "name": "stdout",
          "text": [
            "the Temperature at time 4 is 27\n"
          ]
        }
      ]
    },
    {
      "cell_type": "code",
      "source": [
        "def Temperature_modeling(a, b, c, time):\n",
        "    temp = a * time ** 2 + b * time + c\n",
        "    return temp\n",
        "\n",
        "# Version 2: Keyboard Input\n",
        "a = float(input('Enter a: '))\n",
        "b = float(input('Enter b: '))\n",
        "c = float(input('Enter c: '))\n",
        "time = int(input('Enter Time: '))\n",
        "temp = Temperature_modeling(a, b, c, time)\n",
        "print(f\"the Temperature at time {time} is {temp}\")"
      ],
      "metadata": {
        "colab": {
          "base_uri": "https://localhost:8080/"
        },
        "id": "Nkg8De9fH-9L",
        "outputId": "ef27f532-de96-414d-da2b-77fa92e3050f"
      },
      "execution_count": 9,
      "outputs": [
        {
          "output_type": "stream",
          "name": "stdout",
          "text": [
            "Enter a: 5\n",
            "Enter b: 2\n",
            "Enter c: 6\n",
            "Enter Time: 10\n",
            "the Temperature at time 10 is 526.0\n"
          ]
        }
      ]
    },
    {
      "cell_type": "code",
      "source": [
        "def Temperature_modeling(a, b, c, time):\n",
        "    temp = a * time ** 2 + b * time + c\n",
        "    return temp\n",
        "\n",
        "# Version 3: Single Input from the text file\n",
        "with open('whether_single.txt', 'r') as files:\n",
        "    file = files.readline()\n",
        "    a, b, c, time = file.split()\n",
        "    a = float(a)\n",
        "    b = float(b)\n",
        "    c = float(c)\n",
        "    time = int(time)\n",
        "    temp = Temperature_modeling(a, b, c, time)\n",
        "    print(f'The Temperature at time {time} is {temp}')"
      ],
      "metadata": {
        "colab": {
          "base_uri": "https://localhost:8080/",
          "height": 211
        },
        "id": "aYvhfuAfILUF",
        "outputId": "10c0e6ff-016c-4066-87e1-005b000c3ac6"
      },
      "execution_count": 10,
      "outputs": [
        {
          "output_type": "error",
          "ename": "FileNotFoundError",
          "evalue": "[Errno 2] No such file or directory: 'whether_single.txt'",
          "traceback": [
            "\u001b[0;31m---------------------------------------------------------------------------\u001b[0m",
            "\u001b[0;31mFileNotFoundError\u001b[0m                         Traceback (most recent call last)",
            "\u001b[0;32m/tmp/ipython-input-10-1653864421.py\u001b[0m in \u001b[0;36m<cell line: 0>\u001b[0;34m()\u001b[0m\n\u001b[1;32m      4\u001b[0m \u001b[0;34m\u001b[0m\u001b[0m\n\u001b[1;32m      5\u001b[0m \u001b[0;31m# Version 3: Single Input from the text file\u001b[0m\u001b[0;34m\u001b[0m\u001b[0;34m\u001b[0m\u001b[0m\n\u001b[0;32m----> 6\u001b[0;31m \u001b[0;32mwith\u001b[0m \u001b[0mopen\u001b[0m\u001b[0;34m(\u001b[0m\u001b[0;34m'whether_single.txt'\u001b[0m\u001b[0;34m,\u001b[0m \u001b[0;34m'r'\u001b[0m\u001b[0;34m)\u001b[0m \u001b[0;32mas\u001b[0m \u001b[0mfiles\u001b[0m\u001b[0;34m:\u001b[0m\u001b[0;34m\u001b[0m\u001b[0;34m\u001b[0m\u001b[0m\n\u001b[0m\u001b[1;32m      7\u001b[0m     \u001b[0mfile\u001b[0m \u001b[0;34m=\u001b[0m \u001b[0mfiles\u001b[0m\u001b[0;34m.\u001b[0m\u001b[0mreadline\u001b[0m\u001b[0;34m(\u001b[0m\u001b[0;34m)\u001b[0m\u001b[0;34m\u001b[0m\u001b[0;34m\u001b[0m\u001b[0m\n\u001b[1;32m      8\u001b[0m     \u001b[0ma\u001b[0m\u001b[0;34m,\u001b[0m \u001b[0mb\u001b[0m\u001b[0;34m,\u001b[0m \u001b[0mc\u001b[0m\u001b[0;34m,\u001b[0m \u001b[0mtime\u001b[0m \u001b[0;34m=\u001b[0m \u001b[0mfile\u001b[0m\u001b[0;34m.\u001b[0m\u001b[0msplit\u001b[0m\u001b[0;34m(\u001b[0m\u001b[0;34m)\u001b[0m\u001b[0;34m\u001b[0m\u001b[0;34m\u001b[0m\u001b[0m\n",
            "\u001b[0;31mFileNotFoundError\u001b[0m: [Errno 2] No such file or directory: 'whether_single.txt'"
          ]
        }
      ]
    },
    {
      "cell_type": "code",
      "metadata": {
        "colab": {
          "base_uri": "https://localhost:8080/"
        },
        "id": "07e3642d",
        "outputId": "98facb4f-61af-404f-ed32-7f6b4434a8d5"
      },
      "source": [
        "def Temperature_modeling(a, b, c, time):\n",
        "    temp = a * time ** 2 + b * time + c\n",
        "    return temp\n",
        "\n",
        "# Version 3: Single Input from the text file\n",
        "\n",
        "# Create whether_single.txt with example values\n",
        "with open('whether_single.txt', 'w') as files:\n",
        "    files.write('1 2 3 4\\n') # Example values for a, b, c, time\n",
        "\n",
        "with open('whether_single.txt', 'r') as files:\n",
        "    file = files.readline()\n",
        "    a, b, c, time = file.split()\n",
        "    a = float(a)\n",
        "    b = float(b)\n",
        "    c = float(c)\n",
        "    time = int(time)\n",
        "    temp = Temperature_modeling(a, b, c, time)\n",
        "    print(f'The Temperature at time {time} is {temp}')"
      ],
      "execution_count": 11,
      "outputs": [
        {
          "output_type": "stream",
          "name": "stdout",
          "text": [
            "The Temperature at time 4 is 27.0\n"
          ]
        }
      ]
    },
    {
      "cell_type": "code",
      "source": [
        "def Temperature_modeling(a, b, c, time):\n",
        "    temp = a * time ** 2 + b * time + c\n",
        "    return temp\n",
        "\n",
        "# Version 4: Multiple Input from the text file\n",
        "\n",
        "# Create whether_multiple.txt with example values\n",
        "with open('whether_multiple.txt', 'w') as files:\n",
        "    files.write('1 2 3 4\\n') # Example values for a, b, c, time\n",
        "    files.write('5 6 7 8\\n')\n",
        "    files.write('9 10 11 12\\n')\n",
        "\n",
        "with open('whether_multiple.txt', 'r') as files:\n",
        "    for file in files:\n",
        "        a, b, c, time = file.strip().split()\n",
        "        a = float(a)\n",
        "        b = float(b)\n",
        "        c = float(c)\n",
        "        time = int(time)\n",
        "        temp = Temperature_modeling(a, b, c, time)\n",
        "        print(f'The Temperature at time {time} is {temp}')"
      ],
      "metadata": {
        "colab": {
          "base_uri": "https://localhost:8080/"
        },
        "id": "yM_i6YCFIYXh",
        "outputId": "567a91cb-6b50-4f65-ad19-5a2367a4a583"
      },
      "execution_count": 13,
      "outputs": [
        {
          "output_type": "stream",
          "name": "stdout",
          "text": [
            "The Temperature at time 4 is 27.0\n",
            "The Temperature at time 8 is 375.0\n",
            "The Temperature at time 12 is 1427.0\n"
          ]
        }
      ]
    }
  ]
}